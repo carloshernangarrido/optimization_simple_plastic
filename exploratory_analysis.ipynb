{
 "cells": [
  {
   "cell_type": "code",
   "execution_count": 7,
   "metadata": {},
   "outputs": [],
   "source": [
    "import pickle\n",
    "import numpy as np\n",
    "import matplotlib.pyplot as plt"
   ]
  },
  {
   "cell_type": "code",
   "execution_count": 8,
   "metadata": {},
   "outputs": [
    {
     "name": "stdout",
     "output_type": "stream",
     "text": [
      "baseline {0.5: array([[0, 0, 0, 0, 0, 0]]), 1.0: None, 2.0: None} {0.5: array([0.00499192]), 1.0: None, 2.0: None}\n",
      "baseline {0.5: array([[0, 0, 0, 0, 0, 0]]), 1.0: array([[0, 0, 0, 0, 0, 0]]), 2.0: None} {0.5: array([0.00499192]), 1.0: array([0.00998437]), 2.0: None}\n",
      "baseline {0.5: array([[0, 0, 0, 0, 0, 0]]), 1.0: array([[0, 0, 0, 0, 0, 0]]), 2.0: array([[0, 0, 0, 0, 0, 0]])} {0.5: array([0.00499192]), 1.0: array([0.00998437]), 2.0: array([0.0199712])}\n"
     ]
    }
   ],
   "source": [
    "load_factors = [0.5, 1.0, 2.0]\n",
    "filename_path = r\"C:\\Users\\joses\\Mi unidad\\TRABAJO\\48_FG_protection\\TRABAJO\\fgp_optimizer\\optimization_simple_plastic\"\n",
    "\n",
    "\n",
    "X_baseline = {load_factor: None for load_factor in load_factors}\n",
    "y_baseline = {load_factor: None for load_factor in load_factors}\n",
    "for load_factor in load_factors:\n",
    "    filename = filename_path + r'\\dataset_baseline'\n",
    "    if load_factor == 0.5:\n",
    "        filename += '_half'\n",
    "    elif load_factor == 1.0:\n",
    "        pass\n",
    "    elif load_factor == 2.0:\n",
    "        filename += '_double'\n",
    "    else:\n",
    "        raise ValueError\n",
    "    filename += '.pkl'\n",
    "\n",
    "\n",
    "    with open(filename, 'rb') as f:\n",
    "        dataset_baseline = pickle.load(file=f)\n",
    "\n",
    "    X_baseline[load_factor] = np.array(dataset_baseline[1])\n",
    "    y_baseline[load_factor] = np.array(dataset_baseline[2])\n",
    "    print('baseline', X_baseline, y_baseline)"
   ]
  },
  {
   "cell_type": "code",
   "execution_count": 9,
   "metadata": {},
   "outputs": [
    {
     "data": {
      "text/plain": [
       "array([0.0199712])"
      ]
     },
     "execution_count": 9,
     "metadata": {},
     "output_type": "execute_result"
    }
   ],
   "source": [
    "y_baseline[load_factor]"
   ]
  },
  {
   "cell_type": "code",
   "execution_count": 10,
   "metadata": {},
   "outputs": [
    {
     "data": {
      "text/plain": [
       "Text(0, 0.5, 'peak_response (m)')"
      ]
     },
     "execution_count": 10,
     "metadata": {},
     "output_type": "execute_result"
    },
    {
     "data": {
      "image/png": "[encoded data removed]",
      "text/plain": [
       "<Figure size 640x480 with 1 Axes>"
      ]
     },
     "metadata": {},
     "output_type": "display_data"
    }
   ],
   "source": [
    "plt.plot(load_factors, [y_baseline[load_factor] for load_factor in load_factors], marker='o')\n",
    "plt.xlabel('load_factor')\n",
    "plt.ylabel('peak_response (m)')"
   ]
  },
  {
   "cell_type": "code",
   "execution_count": 11,
   "metadata": {},
   "outputs": [],
   "source": [
    "m_adds = [10, 20, 30]\n",
    "\n",
    "\n",
    "X = {load_factor: {m_add: None for m_add in m_adds} for load_factor in load_factors}\n",
    "y = {load_factor: {m_add: None for m_add in m_adds} for load_factor in load_factors}\n",
    "for load_factor in load_factors:\n",
    "    for m_add in m_adds:\n",
    "        filename = filename_path + f'\\dataset_dense_madd{int(m_add)}'\n",
    "        if load_factor == 0.5:\n",
    "            filename += '_half'\n",
    "        elif load_factor == 1.0:\n",
    "            pass\n",
    "        elif load_factor == 2.0:\n",
    "            filename += '_double'\n",
    "        else:\n",
    "            raise ValueError\n",
    "        filename += '.pkl'\n",
    "\n",
    "        with open(filename, 'rb') as f:\n",
    "            dataset = pickle.load(file=f)\n",
    "\n",
    "        X[load_factor][m_add] = np.array(dataset[1])\n",
    "        y[load_factor][m_add] = np.array(dataset[2]).reshape((-1, 1))"
   ]
  },
  {
   "cell_type": "markdown",
   "metadata": {},
   "source": [
    "### Number of combinations"
   ]
  },
  {
   "cell_type": "code",
   "execution_count": 12,
   "metadata": {},
   "outputs": [
    {
     "name": "stdout",
     "output_type": "stream",
     "text": [
      "(0.0, 0.0, 1.0)\n",
      "(0.0, 0.25, 0.75)\n",
      "(0.0, 0.5, 0.5)\n",
      "(0.0, 0.75, 0.25)\n",
      "(0.0, 1.0, 0.0)\n",
      "(0.25, 0.0, 0.75)\n",
      "(0.25, 0.25, 0.5)\n",
      "(0.25, 0.5, 0.25)\n",
      "(0.25, 0.75, 0.0)\n",
      "(0.5, 0.0, 0.5)\n",
      "(0.5, 0.25, 0.25)\n",
      "(0.5, 0.5, 0.0)\n",
      "(0.75, 0.0, 0.25)\n",
      "(0.75, 0.25, 0.0)\n",
      "(1.0, 0.0, 0.0)\n"
     ]
    }
   ],
   "source": [
    "import itertools\n",
    "\n",
    "\n",
    "m_steps = 5\n",
    "m_options = [i*m_add/(m_steps-1) for i in range(m_steps)]\n",
    "m123 = [(_[0], _[1], m_add-(sum(_))) for _ in list(itertools.product(m_options, m_options))\n",
    "        if min([_[0], _[1], m_add-(sum(_))]) >= 0.]\n",
    "for _ in m123:\n",
    "    print(tuple(np.array(_)/m_add))"
   ]
  },
  {
   "cell_type": "code",
   "execution_count": 13,
   "metadata": {},
   "outputs": [
    {
     "data": {
      "text/plain": [
       "20846100.88474814"
      ]
     },
     "execution_count": 13,
     "metadata": {},
     "output_type": "execute_result"
    }
   ],
   "source": [
    "(57.6 * 2 / np.pi) * (2 * np.pi * 120) ** 2"
   ]
  },
  {
   "cell_type": "code",
   "execution_count": 14,
   "metadata": {},
   "outputs": [
    {
     "data": {
      "text/plain": [
       "36.66929888837269"
      ]
     },
     "execution_count": 14,
     "metadata": {},
     "output_type": "execute_result"
    }
   ],
   "source": [
    "57.6 * 2 / np.pi"
   ]
  },
  {
   "cell_type": "code",
   "execution_count": 15,
   "metadata": {},
   "outputs": [
    {
     "name": "stdout",
     "output_type": "stream",
     "text": [
      "3240\n",
      "3240\n"
     ]
    }
   ],
   "source": [
    "print(len(X[0.5][10]))\n",
    "print((15) * (6**3))"
   ]
  },
  {
   "cell_type": "code",
   "execution_count": 16,
   "metadata": {},
   "outputs": [
    {
     "name": "stdout",
     "output_type": "stream",
     "text": [
      "*** load_factor:  0.5 ***\n",
      "* m_add:  10 *\n",
      "[0.00e+00 0.00e+00 1.00e+01 2.52e+04 2.52e+04 2.52e+04] [0.59400739]\n",
      "* m_add:  20 *\n",
      "[0.00e+00 0.00e+00 2.00e+01 1.26e+04 1.26e+04 2.52e+04] [0.40831269]\n",
      "* m_add:  30 *\n",
      "[    0.     0.    30. 12600. 12600. 12600.] [0.3045245]\n",
      "*** load_factor:  1.0 ***\n",
      "* m_add:  10 *\n",
      "[0.0e+00 0.0e+00 1.0e+01 6.3e+04 6.3e+04 6.3e+04] [0.86324209]\n",
      "* m_add:  20 *\n",
      "[0.00e+00 0.00e+00 2.00e+01 5.04e+04 5.04e+04 5.04e+04] [0.52968153]\n",
      "* m_add:  30 *\n",
      "[0.00e+00 0.00e+00 3.00e+01 3.78e+04 5.04e+04 3.78e+04] [0.41007389]\n",
      "*** load_factor:  2.0 ***\n",
      "* m_add:  10 *\n",
      "[1.0e+01 0.0e+00 0.0e+00 6.3e+04 0.0e+00 6.3e+04] [1.06570379]\n",
      "* m_add:  20 *\n",
      "[2.00e+01 0.00e+00 0.00e+00 6.30e+04 2.52e+04 1.26e+04] [1.06531817]\n",
      "* m_add:  30 *\n",
      "[0.0e+00 0.0e+00 3.0e+01 6.3e+04 6.3e+04 6.3e+04] [0.83449721]\n"
     ]
    }
   ],
   "source": [
    "optimum_parameters = {load_factor: {m_add: None for m_add in m_adds} for load_factor in load_factors}\n",
    "optimum_performance = {load_factor: {m_add: None for m_add in m_adds} for load_factor in load_factors}\n",
    "\n",
    "\n",
    "for load_factor in load_factors:\n",
    "    print('*** load_factor: ', load_factor, '***')\n",
    "    for m_add in m_adds:\n",
    "        print('* m_add: ', m_add, '*')\n",
    "        i_opt = np.argmin(y[load_factor][m_add])\n",
    "        optimum_parameters[load_factor][m_add] = X[load_factor][m_add][i_opt]\n",
    "        optimum_performance[load_factor][m_add] = y[load_factor][m_add][i_opt]/y_baseline[load_factor]\n",
    "        print(optimum_parameters[load_factor][m_add], optimum_performance[load_factor][m_add])\n",
    "\n",
    "with open('optimum_brute_force.pkl', 'wb') as file:\n",
    "    pickle.dump((optimum_parameters, optimum_performance), file=file)"
   ]
  },
  {
   "cell_type": "code",
   "execution_count": 35,
   "metadata": {},
   "outputs": [
    {
     "data": {
      "text/plain": [
       "<Figure size 640x480 with 0 Axes>"
      ]
     },
     "metadata": {},
     "output_type": "display_data"
    },
    {
     "data": {
      "image/png": "[encoded data removed]",
      "text/plain": [
       "<Figure size 1000x800 with 18 Axes>"
      ]
     },
     "metadata": {},
     "output_type": "display_data"
    }
   ],
   "source": [
    "plt.tight_layout()\n",
    "fig, ax = plt.subplots(3,3, figsize=(10,8), sharey='row', sharex='col')\n",
    "axt = ax.__copy__()\n",
    "\n",
    "for i, load_factor in enumerate(load_factors):\n",
    "    for j, m_add in enumerate(m_adds):\n",
    "        i_opt = np.argmin(y[load_factor][m_add])\n",
    "        optimum_parameters[load_factor][m_add] = X[load_factor][m_add][i_opt]\n",
    "        optimum_performance[load_factor][m_add] = y[load_factor][m_add][i_opt]/y_baseline[load_factor]\n",
    "        ax[i, j].set_title(fr'({chr(ord(\"a\") + i*3 + j)})  '\n",
    "                           fr'$\\frac{{F}}{{F_0}}$ = {load_factor}, $m_\\mathrm{{add}}$ = {m_add} kg',\n",
    "                           loc='left', x=-.15)\n",
    "        perf = np.round(optimum_performance[load_factor][m_add][0], 1)\n",
    "        if j == 0:\n",
    "            ax[i, j].set_ylabel('additional mass (kg)')\n",
    "        ax[i, j].plot(np.array(range(3))+2.,\n",
    "                      optimum_parameters[load_factor][m_add][:3], marker='o', \n",
    "                      linestyle='none', label='additional mass')\n",
    "        ax[i, j].set_ylim([0,40])\n",
    "\n",
    "        axt[i, j] = ax[i, j].twinx()\n",
    "        axt[i, j].bar(np.array(range(len(optimum_parameters[load_factor][m_add][3:])))+1.5, \n",
    "                      optimum_parameters[load_factor][m_add][3:]*1e-3, \n",
    "                      color='orange', alpha=0.6, label='yield force')\n",
    "        \n",
    "        ax[i, j].text(1.25, 30, \n",
    "                      r'$\\frac{x_{s\\mathrm{{max}}}}{x_{{s\\mathrm{{max}}0}}}$ = ' + f'{perf}',\n",
    "                      color='red' if perf >= 1 else 'green',\n",
    "                      size=14)       \n",
    "          \n",
    "        axt[i, j].set_ylim([0,70])\n",
    "        if j < 2:\n",
    "            axt[i, j].set_yticks([], [])\n",
    "        else:\n",
    "            axt[i, j].set_ylabel('yield force (kN)')\n",
    "        if i == 2:\n",
    "            ax[i, j].set_xlabel('DOF')\n",
    "\n",
    "plt.show()\n",
    "fig.savefig('parametric_opt.pdf', bbox_inches='tight')\n"
   ]
  },
  {
   "cell_type": "code",
   "execution_count": 18,
   "metadata": {},
   "outputs": [
    {
     "data": {
      "text/plain": [
       "<Figure size 640x480 with 0 Axes>"
      ]
     },
     "metadata": {},
     "output_type": "display_data"
    },
    {
     "data": {
      "image/png": "[encoded data removed]",
      "text/plain": [
       "<Figure size 500x300 with 1 Axes>"
      ]
     },
     "metadata": {},
     "output_type": "display_data"
    }
   ],
   "source": [
    "\n",
    "plt.tight_layout()\n",
    "fig, ax = plt.subplots(1, 1, figsize=(5,3))\n",
    "ax.minorticks_on()\n",
    "colors = ['r', 'y', 'g']\n",
    "for color, load_factor in zip(colors, load_factors[::-1]):\n",
    "    ax.hlines(y_baseline[load_factor], xmin=0, xmax=50, colors=color, linestyle='--')\n",
    "    for m_add in m_adds:\n",
    "        box = ax.boxplot(y[load_factor][m_add], positions=[m_add], widths=5, patch_artist=True, \n",
    "                         medianprops=dict(color=color), \n",
    "                         whiskerprops=dict(color=color), \n",
    "                         capprops=dict(color=color), \n",
    "                         boxprops=dict(color=color), \n",
    "                         flierprops=dict(color=color, \n",
    "                                         markeredgecolor=color))\n",
    "        for patch in box['boxes']: \n",
    "            patch.set_facecolor('w')\n",
    "for color, load_factor in zip(colors, load_factors[::-1]):\n",
    "    ax.plot(m_adds, [optimum_performance[load_factor][m_add]*y_baseline[load_factor] for m_add in m_adds],\n",
    "             label=f'$F/F_0$ = {load_factor}', marker='o', markersize=10, linestyle='none', color=color)\n",
    "ax.legend(loc='upper right')\n",
    "ax.set_xlabel('$m_\\mathrm{add}$ (kg)')\n",
    "ax.set_ylabel('structure displacement (m)')\n",
    "ax.set_xlim((0,50))\n",
    "fig.savefig('parametric_results.pdf', bbox_inches='tight')"
   ]
  },
  {
   "cell_type": "markdown",
   "metadata": {},
   "source": [
    "## Analytically optimized - numerically evaluated"
   ]
  },
  {
   "cell_type": "code",
   "execution_count": 19,
   "metadata": {},
   "outputs": [],
   "source": [
    "m_adds = [10, 20, 30]\n",
    "\n",
    "\n",
    "X_optimized = {load_factor: {m_add: None for m_add in m_adds} for load_factor in load_factors}\n",
    "y_optimized = {load_factor: {m_add: None for m_add in m_adds} for load_factor in load_factors}\n",
    "for load_factor in load_factors:\n",
    "    for m_add in m_adds:\n",
    "        filename = filename_path + f'\\dataset_optimized_madd{int(m_add)}'\n",
    "        if load_factor == 0.5:\n",
    "            filename += '_half'\n",
    "        elif load_factor == 1.0:\n",
    "            pass\n",
    "        elif load_factor == 2.0:\n",
    "            filename += '_double'\n",
    "        else:\n",
    "            raise ValueError\n",
    "        filename += '.pkl'\n",
    "\n",
    "        with open(filename, 'rb') as f:\n",
    "            dataset_optimized = pickle.load(file=f)\n",
    "\n",
    "        X_optimized[load_factor][m_add] = np.array(dataset_optimized[1])\n",
    "        y_optimized[load_factor][m_add] = np.array(dataset_optimized[2]).reshape((-1, 1))"
   ]
  },
  {
   "cell_type": "code",
   "execution_count": 20,
   "metadata": {},
   "outputs": [
    {
     "name": "stdout",
     "output_type": "stream",
     "text": [
      "*** load_factor:  0.5 ***\n",
      "* m_add:  10 *\n",
      "[0.0000e+00 0.0000e+00 1.0000e+01 3.2695e+04 3.2695e+04 3.2695e+04] [0.70701348]\n",
      "* m_add:  20 *\n",
      "[0.0000e+00 0.0000e+00 2.0000e+01 2.3137e+04 2.3137e+04 2.3137e+04] [0.49305992]\n",
      "* m_add:  30 *\n",
      "[    0.     0.    30. 17335. 17335. 17335.] [0.36345727]\n",
      "*** load_factor:  1.0 ***\n",
      "* m_add:  10 *\n",
      "[0.000e+00 0.000e+00 1.000e+01 8.064e+04 8.064e+04 8.064e+04] [0.81471114]\n",
      "* m_add:  20 *\n",
      "[0.0000e+00 0.0000e+00 2.0000e+01 6.4099e+04 6.4099e+04 6.4099e+04] [0.63485377]\n",
      "* m_add:  30 *\n",
      "[0.0000e+00 0.0000e+00 3.0000e+01 5.4258e+04 5.4258e+04 5.4258e+04] [0.51937576]\n",
      "*** load_factor:  2.0 ***\n",
      "* m_add:  10 *\n",
      "[0.00000e+00 0.00000e+00 1.00000e+01 1.82936e+05 1.82936e+05 1.82936e+05] [0.89208498]\n",
      "* m_add:  20 *\n",
      "[0.00000e+00 0.00000e+00 2.00000e+01 1.53351e+05 1.53351e+05 1.53351e+05] [0.74339028]\n",
      "* m_add:  30 *\n",
      "[0.00000e+00 0.00000e+00 3.00000e+01 1.36259e+05 1.36259e+05 1.36259e+05] [0.64270147]\n"
     ]
    }
   ],
   "source": [
    "optimized_parameters = {load_factor: {m_add: None for m_add in m_adds} for load_factor in load_factors}\n",
    "optimized_performance = {load_factor: {m_add: None for m_add in m_adds} for load_factor in load_factors}\n",
    "\n",
    "\n",
    "for load_factor in load_factors:\n",
    "    print('*** load_factor: ', load_factor, '***')\n",
    "    for m_add in m_adds:\n",
    "        print('* m_add: ', m_add, '*')\n",
    "        i_opt = np.argmin(y_optimized[load_factor][m_add])\n",
    "        optimized_parameters[load_factor][m_add] = X_optimized[load_factor][m_add][i_opt]\n",
    "        optimized_performance[load_factor][m_add] = y_optimized[load_factor][m_add][i_opt]/y_baseline[load_factor]\n",
    "        print(optimized_parameters[load_factor][m_add], optimized_performance[load_factor][m_add])\n",
    "\n",
    "with open('optimized.pkl', 'wb') as file:\n",
    "    pickle.dump((optimized_parameters, optimized_performance), file=file)"
   ]
  },
  {
   "cell_type": "code",
   "execution_count": 21,
   "metadata": {},
   "outputs": [
    {
     "data": {
      "text/plain": [
       "(0.0, 1.1)"
      ]
     },
     "execution_count": 21,
     "metadata": {},
     "output_type": "execute_result"
    },
    {
     "data": {
      "image/png": "[encoded data removed]",
      "text/plain": [
       "<Figure size 640x480 with 1 Axes>"
      ]
     },
     "metadata": {},
     "output_type": "display_data"
    }
   ],
   "source": [
    "for load_factor in load_factors:\n",
    "    plt.plot(m_adds, [optimized_performance[load_factor][m_add] for m_add in m_adds],\n",
    "             label=f'load_factor: {load_factor}')\n",
    "plt.legend()\n",
    "plt.xlabel('m_add (kg)')\n",
    "plt.ylabel('relative_performance')\n",
    "plt.xlim((0,40))\n",
    "plt.ylim((0,1.1))"
   ]
  },
  {
   "cell_type": "markdown",
   "metadata": {},
   "source": [
    "# Buckingham Pi"
   ]
  },
  {
   "cell_type": "code",
   "execution_count": 22,
   "metadata": {},
   "outputs": [
    {
     "name": "stdout",
     "output_type": "stream",
     "text": [
      "Número de grupos adimensionales (π): 5\n"
     ]
    }
   ],
   "source": [
    "import numpy as np\n",
    "from sympy import Matrix\n",
    "\n",
    "\n",
    "# Matriz de exponente\n",
    "exponent_matrix = np.array([\n",
    "    [0, 1, 0],  # d_c (m)\n",
    "    [1, 0, 0],  # m_a (kg)\n",
    "    [1, 1, -2], # F (N)\n",
    "    [1, 0, -2], # k_s (N/m)\n",
    "    [1, 0, 0],  # m_s (kg)\n",
    "    [1, 1, -2], # f (N)\n",
    "    [0, 0, 1],  # T (s)\n",
    "    [0, 1, 0],  # r (m)\n",
    "])\n",
    "\n",
    "# Convertir la matriz a una matriz de sympy para cálculo del rango\n",
    "rank = Matrix(exponent_matrix).rank()\n",
    "n = exponent_matrix.shape[0]  # Número de variables\n",
    "\n",
    "# Determinar el número de grupos adimensionales (π)\n",
    "pi_groups = n - rank\n",
    "\n",
    "print(f\"Número de grupos adimensionales (π): {pi_groups}\")"
   ]
  },
  {
   "cell_type": "markdown",
   "metadata": {},
   "source": [
    "$\\Pi_i = d_c^a \\cdot m_a^b \\cdot F^c \\cdot k_s^d \\cdot m_s^e \\cdot f^f \\cdot T^g \\cdot r^h$"
   ]
  },
  {
   "cell_type": "code",
   "execution_count": 23,
   "metadata": {},
   "outputs": [
    {
     "name": "stdout",
     "output_type": "stream",
     "text": [
      "[[ 0  1  0]\n",
      " [ 1  0  0]\n",
      " [ 1  1 -2]\n",
      " [ 1  0 -2]\n",
      " [ 1  0  0]\n",
      " [ 1  1 -2]\n",
      " [ 0  0  1]\n",
      " [ 0  1  0]]\n",
      "[[ 0  1  0]\n",
      " [ 1  0  0]\n",
      " [ 1  0 -2]]\n"
     ]
    }
   ],
   "source": [
    "import numpy as np\n",
    "from scipy.linalg import null_space \n",
    "\n",
    "\n",
    "# Given exponent matrix\n",
    "print(exponent_matrix)\n",
    "\n",
    "# Base variables: d_c, m_s, k_s\n",
    "base_vars_indices = [0, 4, 3]\n",
    "\n",
    "# Extract the submatrix for the base variables\n",
    "base_matrix = exponent_matrix[base_vars_indices, :]\n",
    "print(base_matrix)\n"
   ]
  },
  {
   "cell_type": "markdown",
   "metadata": {},
   "source": [
    "# Buckinham py"
   ]
  },
  {
   "cell_type": "code",
   "execution_count": 24,
   "metadata": {},
   "outputs": [],
   "source": [
    "from bpi import BuckinghamPi"
   ]
  },
  {
   "cell_type": "code",
   "execution_count": 25,
   "metadata": {},
   "outputs": [
    {
     "data": {
      "text/latex": [
       "$\\displaystyle \\text{Set }1: \\quad\\pi_1 = \\frac{d_{c} k_{s}}{F}\\quad\\pi_2 = \\frac{m_{s}}{m_{a}}\\quad\\pi_3 = \\frac{f}{F}\\quad\\pi_4 = \\frac{T \\sqrt{k_{s}}}{\\sqrt{m_{a}}}\\quad\\pi_5 = \\frac{k_{s} r}{F}\\quad$"
      ],
      "text/plain": [
       "<IPython.core.display.Math object>"
      ]
     },
     "metadata": {},
     "output_type": "display_data"
    },
    {
     "data": {
      "text/markdown": [
       "---"
      ],
      "text/plain": [
       "<IPython.core.display.Markdown object>"
      ]
     },
     "metadata": {},
     "output_type": "display_data"
    },
    {
     "data": {
      "text/latex": [
       "$\\displaystyle \\text{Set }2: \\quad\\pi_1 = \\frac{d_{c} m_{a}}{F T^{2}}\\quad\\pi_2 = \\frac{T^{2} k_{s}}{m_{a}}\\quad\\pi_3 = \\frac{m_{s}}{m_{a}}\\quad\\pi_4 = \\frac{f}{F}\\quad\\pi_5 = \\frac{m_{a} r}{F T^{2}}\\quad$"
      ],
      "text/plain": [
       "<IPython.core.display.Math object>"
      ]
     },
     "metadata": {},
     "output_type": "display_data"
    },
    {
     "data": {
      "text/markdown": [
       "---"
      ],
      "text/plain": [
       "<IPython.core.display.Markdown object>"
      ]
     },
     "metadata": {},
     "output_type": "display_data"
    },
    {
     "data": {
      "text/latex": [
       "$\\displaystyle \\text{Set }3: \\quad\\pi_1 = \\frac{d_{c}}{r}\\quad\\pi_2 = \\frac{k_{s} r}{F}\\quad\\pi_3 = \\frac{m_{s}}{m_{a}}\\quad\\pi_4 = \\frac{f}{F}\\quad\\pi_5 = \\frac{\\sqrt{F} T}{\\sqrt{m_{a}} \\sqrt{r}}\\quad$"
      ],
      "text/plain": [
       "<IPython.core.display.Math object>"
      ]
     },
     "metadata": {},
     "output_type": "display_data"
    },
    {
     "data": {
      "text/markdown": [
       "---"
      ],
      "text/plain": [
       "<IPython.core.display.Markdown object>"
      ]
     },
     "metadata": {},
     "output_type": "display_data"
    },
    {
     "data": {
      "text/latex": [
       "$\\displaystyle \\text{Set }4: \\quad\\pi_1 = \\frac{d_{c} k_{s}}{f}\\quad\\pi_2 = \\frac{F}{f}\\quad\\pi_3 = \\frac{m_{s}}{m_{a}}\\quad\\pi_4 = \\frac{T \\sqrt{k_{s}}}{\\sqrt{m_{a}}}\\quad\\pi_5 = \\frac{k_{s} r}{f}\\quad$"
      ],
      "text/plain": [
       "<IPython.core.display.Math object>"
      ]
     },
     "metadata": {},
     "output_type": "display_data"
    },
    {
     "data": {
      "text/markdown": [
       "---"
      ],
      "text/plain": [
       "<IPython.core.display.Markdown object>"
      ]
     },
     "metadata": {},
     "output_type": "display_data"
    },
    {
     "data": {
      "text/latex": [
       "$\\displaystyle \\text{Set }5: \\quad\\pi_1 = \\frac{d_{c}}{r}\\quad\\pi_2 = \\frac{F}{k_{s} r}\\quad\\pi_3 = \\frac{m_{s}}{m_{a}}\\quad\\pi_4 = \\frac{f}{k_{s} r}\\quad\\pi_5 = \\frac{T \\sqrt{k_{s}}}{\\sqrt{m_{a}}}\\quad$"
      ],
      "text/plain": [
       "<IPython.core.display.Math object>"
      ]
     },
     "metadata": {},
     "output_type": "display_data"
    },
    {
     "data": {
      "text/markdown": [
       "---"
      ],
      "text/plain": [
       "<IPython.core.display.Markdown object>"
      ]
     },
     "metadata": {},
     "output_type": "display_data"
    },
    {
     "data": {
      "text/latex": [
       "$\\displaystyle \\text{Set }6: \\quad\\pi_1 = \\frac{d_{c} m_{a}}{T^{2} f}\\quad\\pi_2 = \\frac{F}{f}\\quad\\pi_3 = \\frac{T^{2} k_{s}}{m_{a}}\\quad\\pi_4 = \\frac{m_{s}}{m_{a}}\\quad\\pi_5 = \\frac{m_{a} r}{T^{2} f}\\quad$"
      ],
      "text/plain": [
       "<IPython.core.display.Math object>"
      ]
     },
     "metadata": {},
     "output_type": "display_data"
    },
    {
     "data": {
      "text/markdown": [
       "---"
      ],
      "text/plain": [
       "<IPython.core.display.Markdown object>"
      ]
     },
     "metadata": {},
     "output_type": "display_data"
    },
    {
     "data": {
      "text/latex": [
       "$\\displaystyle \\text{Set }7: \\quad\\pi_1 = \\frac{d_{c}}{r}\\quad\\pi_2 = \\frac{F}{f}\\quad\\pi_3 = \\frac{k_{s} r}{f}\\quad\\pi_4 = \\frac{m_{s}}{m_{a}}\\quad\\pi_5 = \\frac{T \\sqrt{f}}{\\sqrt{m_{a}} \\sqrt{r}}\\quad$"
      ],
      "text/plain": [
       "<IPython.core.display.Math object>"
      ]
     },
     "metadata": {},
     "output_type": "display_data"
    },
    {
     "data": {
      "text/markdown": [
       "---"
      ],
      "text/plain": [
       "<IPython.core.display.Markdown object>"
      ]
     },
     "metadata": {},
     "output_type": "display_data"
    },
    {
     "data": {
      "text/latex": [
       "$\\displaystyle \\text{Set }8: \\quad\\pi_1 = \\frac{d_{c}}{r}\\quad\\pi_2 = \\frac{F T^{2}}{m_{a} r}\\quad\\pi_3 = \\frac{T^{2} k_{s}}{m_{a}}\\quad\\pi_4 = \\frac{m_{s}}{m_{a}}\\quad\\pi_5 = \\frac{T^{2} f}{m_{a} r}\\quad$"
      ],
      "text/plain": [
       "<IPython.core.display.Math object>"
      ]
     },
     "metadata": {},
     "output_type": "display_data"
    },
    {
     "data": {
      "text/markdown": [
       "---"
      ],
      "text/plain": [
       "<IPython.core.display.Markdown object>"
      ]
     },
     "metadata": {},
     "output_type": "display_data"
    },
    {
     "data": {
      "text/latex": [
       "$\\displaystyle \\text{Set }9: \\quad\\pi_1 = \\frac{d_{c} k_{s}}{F}\\quad\\pi_2 = \\frac{m_{a}}{m_{s}}\\quad\\pi_3 = \\frac{f}{F}\\quad\\pi_4 = \\frac{T \\sqrt{k_{s}}}{\\sqrt{m_{s}}}\\quad\\pi_5 = \\frac{k_{s} r}{F}\\quad$"
      ],
      "text/plain": [
       "<IPython.core.display.Math object>"
      ]
     },
     "metadata": {},
     "output_type": "display_data"
    },
    {
     "data": {
      "text/markdown": [
       "---"
      ],
      "text/plain": [
       "<IPython.core.display.Markdown object>"
      ]
     },
     "metadata": {},
     "output_type": "display_data"
    },
    {
     "data": {
      "text/latex": [
       "$\\displaystyle \\text{Set }10: \\quad\\pi_1 = \\frac{d_{c} k_{s}}{F}\\quad\\pi_2 = \\frac{m_{a}}{T^{2} k_{s}}\\quad\\pi_3 = \\frac{m_{s}}{T^{2} k_{s}}\\quad\\pi_4 = \\frac{f}{F}\\quad\\pi_5 = \\frac{k_{s} r}{F}\\quad$"
      ],
      "text/plain": [
       "<IPython.core.display.Math object>"
      ]
     },
     "metadata": {},
     "output_type": "display_data"
    },
    {
     "data": {
      "text/markdown": [
       "---"
      ],
      "text/plain": [
       "<IPython.core.display.Markdown object>"
      ]
     },
     "metadata": {},
     "output_type": "display_data"
    },
    {
     "data": {
      "text/latex": [
       "$\\displaystyle \\text{Set }11: \\quad\\pi_1 = \\frac{d_{c} m_{s}}{F T^{2}}\\quad\\pi_2 = \\frac{m_{a}}{m_{s}}\\quad\\pi_3 = \\frac{T^{2} k_{s}}{m_{s}}\\quad\\pi_4 = \\frac{f}{F}\\quad\\pi_5 = \\frac{m_{s} r}{F T^{2}}\\quad$"
      ],
      "text/plain": [
       "<IPython.core.display.Math object>"
      ]
     },
     "metadata": {},
     "output_type": "display_data"
    },
    {
     "data": {
      "text/markdown": [
       "---"
      ],
      "text/plain": [
       "<IPython.core.display.Markdown object>"
      ]
     },
     "metadata": {},
     "output_type": "display_data"
    },
    {
     "data": {
      "text/latex": [
       "$\\displaystyle \\text{Set }12: \\quad\\pi_1 = \\frac{d_{c}}{r}\\quad\\pi_2 = \\frac{m_{a}}{m_{s}}\\quad\\pi_3 = \\frac{k_{s} r}{F}\\quad\\pi_4 = \\frac{f}{F}\\quad\\pi_5 = \\frac{\\sqrt{F} T}{\\sqrt{m_{s}} \\sqrt{r}}\\quad$"
      ],
      "text/plain": [
       "<IPython.core.display.Math object>"
      ]
     },
     "metadata": {},
     "output_type": "display_data"
    },
    {
     "data": {
      "text/markdown": [
       "---"
      ],
      "text/plain": [
       "<IPython.core.display.Markdown object>"
      ]
     },
     "metadata": {},
     "output_type": "display_data"
    },
    {
     "data": {
      "text/latex": [
       "$\\displaystyle \\text{Set }13: \\quad\\pi_1 = \\frac{d_{c}}{r}\\quad\\pi_2 = \\frac{m_{a} r}{F T^{2}}\\quad\\pi_3 = \\frac{k_{s} r}{F}\\quad\\pi_4 = \\frac{m_{s} r}{F T^{2}}\\quad\\pi_5 = \\frac{f}{F}\\quad$"
      ],
      "text/plain": [
       "<IPython.core.display.Math object>"
      ]
     },
     "metadata": {},
     "output_type": "display_data"
    },
    {
     "data": {
      "text/markdown": [
       "---"
      ],
      "text/plain": [
       "<IPython.core.display.Markdown object>"
      ]
     },
     "metadata": {},
     "output_type": "display_data"
    },
    {
     "data": {
      "text/latex": [
       "$\\displaystyle \\text{Set }14: \\quad\\pi_1 = \\frac{d_{c} k_{s}}{f}\\quad\\pi_2 = \\frac{m_{a}}{m_{s}}\\quad\\pi_3 = \\frac{F}{f}\\quad\\pi_4 = \\frac{T \\sqrt{k_{s}}}{\\sqrt{m_{s}}}\\quad\\pi_5 = \\frac{k_{s} r}{f}\\quad$"
      ],
      "text/plain": [
       "<IPython.core.display.Math object>"
      ]
     },
     "metadata": {},
     "output_type": "display_data"
    },
    {
     "data": {
      "text/markdown": [
       "---"
      ],
      "text/plain": [
       "<IPython.core.display.Markdown object>"
      ]
     },
     "metadata": {},
     "output_type": "display_data"
    },
    {
     "data": {
      "text/latex": [
       "$\\displaystyle \\text{Set }15: \\quad\\pi_1 = \\frac{d_{c}}{r}\\quad\\pi_2 = \\frac{m_{a}}{m_{s}}\\quad\\pi_3 = \\frac{F}{k_{s} r}\\quad\\pi_4 = \\frac{f}{k_{s} r}\\quad\\pi_5 = \\frac{T \\sqrt{k_{s}}}{\\sqrt{m_{s}}}\\quad$"
      ],
      "text/plain": [
       "<IPython.core.display.Math object>"
      ]
     },
     "metadata": {},
     "output_type": "display_data"
    },
    {
     "data": {
      "text/markdown": [
       "---"
      ],
      "text/plain": [
       "<IPython.core.display.Markdown object>"
      ]
     },
     "metadata": {},
     "output_type": "display_data"
    },
    {
     "data": {
      "text/latex": [
       "$\\displaystyle \\text{Set }16: \\quad\\pi_1 = \\frac{d_{c} k_{s}}{f}\\quad\\pi_2 = \\frac{m_{a}}{T^{2} k_{s}}\\quad\\pi_3 = \\frac{F}{f}\\quad\\pi_4 = \\frac{m_{s}}{T^{2} k_{s}}\\quad\\pi_5 = \\frac{k_{s} r}{f}\\quad$"
      ],
      "text/plain": [
       "<IPython.core.display.Math object>"
      ]
     },
     "metadata": {},
     "output_type": "display_data"
    },
    {
     "data": {
      "text/markdown": [
       "---"
      ],
      "text/plain": [
       "<IPython.core.display.Markdown object>"
      ]
     },
     "metadata": {},
     "output_type": "display_data"
    },
    {
     "data": {
      "text/latex": [
       "$\\displaystyle \\text{Set }17: \\quad\\pi_1 = \\frac{d_{c}}{r}\\quad\\pi_2 = \\frac{m_{a}}{T^{2} k_{s}}\\quad\\pi_3 = \\frac{F}{k_{s} r}\\quad\\pi_4 = \\frac{m_{s}}{T^{2} k_{s}}\\quad\\pi_5 = \\frac{f}{k_{s} r}\\quad$"
      ],
      "text/plain": [
       "<IPython.core.display.Math object>"
      ]
     },
     "metadata": {},
     "output_type": "display_data"
    },
    {
     "data": {
      "text/markdown": [
       "---"
      ],
      "text/plain": [
       "<IPython.core.display.Markdown object>"
      ]
     },
     "metadata": {},
     "output_type": "display_data"
    },
    {
     "data": {
      "text/latex": [
       "$\\displaystyle \\text{Set }18: \\quad\\pi_1 = \\frac{d_{c} m_{s}}{T^{2} f}\\quad\\pi_2 = \\frac{m_{a}}{m_{s}}\\quad\\pi_3 = \\frac{F}{f}\\quad\\pi_4 = \\frac{T^{2} k_{s}}{m_{s}}\\quad\\pi_5 = \\frac{m_{s} r}{T^{2} f}\\quad$"
      ],
      "text/plain": [
       "<IPython.core.display.Math object>"
      ]
     },
     "metadata": {},
     "output_type": "display_data"
    },
    {
     "data": {
      "text/markdown": [
       "---"
      ],
      "text/plain": [
       "<IPython.core.display.Markdown object>"
      ]
     },
     "metadata": {},
     "output_type": "display_data"
    },
    {
     "data": {
      "text/latex": [
       "$\\displaystyle \\text{Set }19: \\quad\\pi_1 = \\frac{d_{c}}{r}\\quad\\pi_2 = \\frac{m_{a}}{m_{s}}\\quad\\pi_3 = \\frac{F}{f}\\quad\\pi_4 = \\frac{k_{s} r}{f}\\quad\\pi_5 = \\frac{T \\sqrt{f}}{\\sqrt{m_{s}} \\sqrt{r}}\\quad$"
      ],
      "text/plain": [
       "<IPython.core.display.Math object>"
      ]
     },
     "metadata": {},
     "output_type": "display_data"
    },
    {
     "data": {
      "text/markdown": [
       "---"
      ],
      "text/plain": [
       "<IPython.core.display.Markdown object>"
      ]
     },
     "metadata": {},
     "output_type": "display_data"
    },
    {
     "data": {
      "text/latex": [
       "$\\displaystyle \\text{Set }20: \\quad\\pi_1 = \\frac{d_{c}}{r}\\quad\\pi_2 = \\frac{m_{a}}{m_{s}}\\quad\\pi_3 = \\frac{F T^{2}}{m_{s} r}\\quad\\pi_4 = \\frac{T^{2} k_{s}}{m_{s}}\\quad\\pi_5 = \\frac{T^{2} f}{m_{s} r}\\quad$"
      ],
      "text/plain": [
       "<IPython.core.display.Math object>"
      ]
     },
     "metadata": {},
     "output_type": "display_data"
    },
    {
     "data": {
      "text/markdown": [
       "---"
      ],
      "text/plain": [
       "<IPython.core.display.Markdown object>"
      ]
     },
     "metadata": {},
     "output_type": "display_data"
    },
    {
     "data": {
      "text/latex": [
       "$\\displaystyle \\text{Set }21: \\quad\\pi_1 = \\frac{d_{c}}{r}\\quad\\pi_2 = \\frac{m_{a} r}{T^{2} f}\\quad\\pi_3 = \\frac{F}{f}\\quad\\pi_4 = \\frac{k_{s} r}{f}\\quad\\pi_5 = \\frac{m_{s} r}{T^{2} f}\\quad$"
      ],
      "text/plain": [
       "<IPython.core.display.Math object>"
      ]
     },
     "metadata": {},
     "output_type": "display_data"
    },
    {
     "data": {
      "text/markdown": [
       "---"
      ],
      "text/plain": [
       "<IPython.core.display.Markdown object>"
      ]
     },
     "metadata": {},
     "output_type": "display_data"
    }
   ],
   "source": [
    "Example = BuckinghamPi()\n",
    "Example.add_variable(name='d_c', dimensions='L', non_repeating=True)\n",
    "Example.add_variable(name='m_a', dimensions='M')\n",
    "Example.add_variable(name='F', dimensions='M*L/(T^2)')\n",
    "Example.add_variable(name='k_s', dimensions='M/(T^2)')\n",
    "Example.add_variable(name='m_s', dimensions='M')\n",
    "Example.add_variable(name='f', dimensions='M*L/(T^2)')\n",
    "Example.add_variable(name='T', dimensions='T')\n",
    "Example.add_variable(name='r', dimensions='L')\n",
    "\n",
    "Example.generate_pi_terms()\n",
    "\n",
    "Example.print_all()\n"
   ]
  },
  {
   "cell_type": "code",
   "execution_count": 26,
   "metadata": {},
   "outputs": [
    {
     "data": {
      "text/latex": [
       "$\\displaystyle \\frac{d_{c} k_{s}}{F}$"
      ],
      "text/plain": [
       "<IPython.core.display.Math object>"
      ]
     },
     "metadata": {},
     "output_type": "display_data"
    },
    {
     "data": {
      "text/latex": [
       "$\\displaystyle \\frac{m_{a}}{m_{s}}$"
      ],
      "text/plain": [
       "<IPython.core.display.Math object>"
      ]
     },
     "metadata": {},
     "output_type": "display_data"
    },
    {
     "data": {
      "text/latex": [
       "$\\displaystyle \\frac{f}{F}$"
      ],
      "text/plain": [
       "<IPython.core.display.Math object>"
      ]
     },
     "metadata": {},
     "output_type": "display_data"
    },
    {
     "data": {
      "text/latex": [
       "$\\displaystyle \\frac{T \\sqrt{k_{s}}}{\\sqrt{m_{s}}}$"
      ],
      "text/plain": [
       "<IPython.core.display.Math object>"
      ]
     },
     "metadata": {},
     "output_type": "display_data"
    },
    {
     "data": {
      "text/latex": [
       "$\\displaystyle \\frac{k_{s} r}{F}$"
      ],
      "text/plain": [
       "<IPython.core.display.Math object>"
      ]
     },
     "metadata": {},
     "output_type": "display_data"
    }
   ],
   "source": [
    "from IPython.display import display, Math\n",
    "import sympy as sp\n",
    "\n",
    "\n",
    "for text in Example.pi_terms[8]:\n",
    "    display(Math(sp.latex(text)))"
   ]
  },
  {
   "cell_type": "markdown",
   "metadata": {},
   "source": [
    "# Predictive model"
   ]
  },
  {
   "cell_type": "code",
   "execution_count": 27,
   "metadata": {},
   "outputs": [
    {
     "ename": "TypeError",
     "evalue": "unsupported operand type(s) for ** or pow(): 'dict' and 'int'",
     "output_type": "error",
     "traceback": [
      "\u001b[1;31m---------------------------------------------------------------------------\u001b[0m",
      "\u001b[1;31mTypeError\u001b[0m                                 Traceback (most recent call last)",
      "Cell \u001b[1;32mIn[27], line 7\u001b[0m\n\u001b[0;32m      3\u001b[0m \u001b[38;5;28;01mfrom\u001b[39;00m \u001b[38;5;21;01msklearn\u001b[39;00m\u001b[38;5;21;01m.\u001b[39;00m\u001b[38;5;21;01mlinear_model\u001b[39;00m \u001b[38;5;28;01mimport\u001b[39;00m LinearRegression\n\u001b[0;32m      4\u001b[0m \u001b[38;5;28;01mfrom\u001b[39;00m \u001b[38;5;21;01msklearn\u001b[39;00m\u001b[38;5;21;01m.\u001b[39;00m\u001b[38;5;21;01mmetrics\u001b[39;00m \u001b[38;5;28;01mimport\u001b[39;00m mean_absolute_error\n\u001b[1;32m----> 7\u001b[0m X_aug \u001b[38;5;241m=\u001b[39m np\u001b[38;5;241m.\u001b[39mhstack((X, \u001b[43mX\u001b[49m\u001b[38;5;241;43m*\u001b[39;49m\u001b[38;5;241;43m*\u001b[39;49m\u001b[38;5;241;43m2\u001b[39;49m))\n\u001b[0;32m      8\u001b[0m scaler_X, scaler_y \u001b[38;5;241m=\u001b[39m MinMaxScaler(), MinMaxScaler()\n\u001b[0;32m      9\u001b[0m X_norm \u001b[38;5;241m=\u001b[39m scaler_X\u001b[38;5;241m.\u001b[39mfit_transform(X_aug)\n",
      "\u001b[1;31mTypeError\u001b[0m: unsupported operand type(s) for ** or pow(): 'dict' and 'int'"
     ]
    }
   ],
   "source": [
    "from sklearn.preprocessing import MinMaxScaler\n",
    "from sklearn.model_selection import train_test_split\n",
    "from sklearn.linear_model import LinearRegression\n",
    "from sklearn.metrics import mean_absolute_error\n",
    "\n",
    "\n",
    "X_aug = np.hstack((X, X**2))\n",
    "scaler_X, scaler_y = MinMaxScaler(), MinMaxScaler()\n",
    "X_norm = scaler_X.fit_transform(X_aug)\n",
    "y_norm = scaler_y.fit_transform(y)\n",
    "X_norm_train, X_norm_test, y_norm_train, y_norm_test = train_test_split(X_norm, y_norm, test_size=0.10, random_state=42)\n",
    "pred_model = LinearRegression()\n",
    "pred_model.fit(X_norm_train, y_norm_train)\n",
    "\n",
    "print('train error', mean_absolute_error(y_norm_train, pred_model.predict(X_norm_train)))\n",
    "print('test error', mean_absolute_error(y_norm_test, pred_model.predict(X_norm_test)))\n",
    "\n",
    "print(pred_model.coef_, pred_model.intercept_)\n"
   ]
  }
 ],
 "metadata": {
  "kernelspec": {
   "display_name": "car_models",
   "language": "python",
   "name": "python3"
  },
  "language_info": {
   "codemirror_mode": {
    "name": "ipython",
    "version": 3
   },
   "file_extension": ".py",
   "mimetype": "text/x-python",
   "name": "python",
   "nbconvert_exporter": "python",
   "pygments_lexer": "ipython3",
   "version": "3.8.10"
  }
 },
 "nbformat": 4,
 "nbformat_minor": 2
}
