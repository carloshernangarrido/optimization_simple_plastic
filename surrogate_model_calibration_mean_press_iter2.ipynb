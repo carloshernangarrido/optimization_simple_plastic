{
 "cells": [
  {
   "cell_type": "code",
   "execution_count": 1,
   "metadata": {},
   "outputs": [],
   "source": [
    "import numpy as np\n",
    "import tensorflow as tf\n",
    "\n",
    "import os\n",
    "import zipfile\n",
    "\n",
    "import matplotlib.pyplot as plt\n",
    "from mpl_toolkits.mplot3d import Axes3D\n",
    "from matplotlib.animation import FuncAnimation\n",
    "from IPython.display import HTML\n",
    "\n",
    "from scipy.interpolate import interp1d\n",
    "from scipy import signal\n",
    "from scipy.integrate import solve_ivp\n",
    "\n",
    "from sklearn.model_selection import train_test_split\n",
    "\n",
    "# Make sure interactive plotting is enabled\n",
    "%matplotlib widget"
   ]
  },
  {
   "cell_type": "markdown",
   "metadata": {},
   "source": [
    "# Load data from full simulations"
   ]
  },
  {
   "cell_type": "markdown",
   "metadata": {},
   "source": [
    "## Units\n",
    "\n",
    "$$[d] = \\mathrm{mm}$$\n",
    "$$[p] = \\mathrm{MPa}$$\n",
    "$$[m] = \\mathrm{Ton}$$\n",
    "$$[f] = \\mathrm{N}$$\n",
    "$$[t] = \\mathrm{s}$$\n"
   ]
  },
  {
   "cell_type": "markdown",
   "metadata": {},
   "source": [
    "# Extract files from zip "
   ]
  },
  {
   "cell_type": "code",
   "execution_count": 2,
   "metadata": {},
   "outputs": [],
   "source": [
    "# Path to your zip file\n",
    "zip_file_path = r\"C:\\TRABAJO\\CONICET\\datasets\\protection\\1mm6_12kg6\\F_65_kN.zip\"\n",
    "\n",
    "\n",
    "# Define the prefixes to organize files\n",
    "prefixes = [\"flecha_chapa\", \"flecha_losa\", \"presion_chapa\", \"presion_losa\"]\n",
    "\n",
    "\n",
    "# Extraction directory\n",
    "output_dir = r'C:\\Users\\joses\\Mi unidad\\TRABAJO\\48_FG_protection\\TRABAJO\\fgp_optimizer\\optimization_simple_plastic\\full_simulation_data\\iter1_mean_press'\n",
    "\n",
    "\n",
    "# Ensure the output directory exists\n",
    "os.makedirs(output_dir, exist_ok=True)\n",
    "\n",
    "# Extract and organize files\n",
    "with zipfile.ZipFile(zip_file_path, 'r') as zip_ref:\n",
    "    for file_name in zip_ref.namelist():\n",
    "        # Check if the file starts with any of the prefixes\n",
    "        for prefix in prefixes:\n",
    "            if file_name.startswith(prefix):\n",
    "                # Create the subfolder if it doesn't exist\n",
    "                subfolder_path = os.path.join(output_dir, prefix)\n",
    "                os.makedirs(subfolder_path, exist_ok=True)\n",
    "                \n",
    "                # Extract the file to the appropriate subfolder\n",
    "                source = zip_ref.open(file_name)\n",
    "                target_path = os.path.join(subfolder_path, os.path.basename(file_name))\n",
    "                with open(target_path, \"wb\") as target:\n",
    "                    target.write(source.read())\n",
    "                break  # Stop checking other prefixes once a match is found\n",
    "\n",
    "# Extract nodos.txt\n",
    "with zipfile.ZipFile(zip_file_path, 'r') as zip_ref:\n",
    "    source = zip_ref.open('nodos.txt')\n",
    "    with open(os.path.join(output_dir, 'nodos.txt'), 'wb') as target:\n",
    "        target.write(source.read())\n"
   ]
  },
  {
   "cell_type": "markdown",
   "metadata": {},
   "source": [
    "# Load data files"
   ]
  },
  {
   "cell_type": "code",
   "execution_count": 3,
   "metadata": {},
   "outputs": [],
   "source": [
    "def load_multiple_records(file_path):\n",
    "    with open(file_path, 'r') as file:\n",
    "        lines = file.readlines()\n",
    "    \n",
    "    records = []\n",
    "    current_record = []\n",
    "    header = lines[0].strip()  # Assuming the first line is the header\n",
    "    \n",
    "    for line in lines:\n",
    "        if line.strip() == header:\n",
    "            if current_record:\n",
    "                records.append(np.array(current_record, dtype=float))\n",
    "                current_record = []\n",
    "        else:\n",
    "            current_record.append([float(value) for value in line.split()])\n",
    "    \n",
    "    if current_record:  # Add the last record if the file doesn't end with a header line\n",
    "        records.append(np.array(current_record, dtype=float))\n",
    "    \n",
    "    return records"
   ]
  },
  {
   "cell_type": "code",
   "execution_count": 4,
   "metadata": {},
   "outputs": [],
   "source": [
    "# Folder path where the files are stored\n",
    "folder_path = output_dir\n",
    "folder_path_presion_losa = os.path.join(folder_path, 'presion_losa')  # N/cm2\n",
    "folder_path_presion_chapa = os.path.join(folder_path, 'presion_chapa') # MPa = N/mm2\n",
    "folder_path_flecha_losa = os.path.join(folder_path, 'flecha_losa')\n",
    "folder_path_flecha_chapa = os.path.join(folder_path, 'flecha_chapa')\n",
    "\n",
    "presion_losa_scale = 1/100\n",
    "\n",
    "# Dictionary to store the data for each node\n",
    "data_dicts = {}\n",
    "node_ids = []\n",
    "nodes = np.loadtxt(os.path.join(folder_path, 'nodos.txt'))[:, 1:]\n",
    "\n",
    "# Custom converters for handling invalid entries \n",
    "def safe_convert(val): \n",
    "    try: \n",
    "        return float(val) \n",
    "    except ValueError: \n",
    "        return np.nan # or any default value\n",
    "\n",
    "converters = {1: safe_convert} # Apply safe_convert to the second column\n",
    "\n",
    "# Iterate over each file in the folder\n",
    "for filename in os.listdir(folder_path_presion_losa):\n",
    "    if filename.startswith('presion_losa'):\n",
    "        # Extract the node ID from the filename\n",
    "        node_id = filename.split('node')[-1]\n",
    "        node_ids.append(node_id)\n",
    "        \n",
    "        # Construct the full file path\n",
    "        file_path_presion_losa = os.path.join(folder_path_presion_losa, filename)\n",
    "        if filename.startswith('presion_losa_c'):\n",
    "            file_path_flecha_losa = os.path.join(folder_path_flecha_losa, filename.replace('presion_losa_c_node', 'flecha_losa_node'))\n",
    "        elif filename.startswith('presion_losa_f'):\n",
    "            file_path_flecha_losa = os.path.join(folder_path_flecha_losa, filename.replace('presion_losa_f_node', 'flecha_losa_node'))\n",
    "\n",
    "        # Load the data, skipping the first line\n",
    "        data = load_multiple_records(file_path_presion_losa)\n",
    "        \n",
    "        # Load displacements and their time vector\n",
    "        time_disp = np.loadtxt(file_path_flecha_losa, skiprows=1, converters=converters)\n",
    "\n",
    "        # Store the time and pressure data in the dictionary under the node_id\n",
    "        if node_id in data_dicts.keys():\n",
    "            data_dicts[node_id] = {\n",
    "                'time': data[0][:, 0],\n",
    "                'pressure': data_dicts[node_id]['pressure'] - np.mean(np.array(data), axis=0)[:,1] * presion_losa_scale,\n",
    "                'displacement': np.interp(data[0][:, 0], time_disp[:, 0], time_disp[:, 1]), \n",
    "                'coordinates': nodes[int(node_id)]\n",
    "            }\n",
    "        else:\n",
    "            data_dicts[node_id] = {\n",
    "                'time': data[0][:, 0],\n",
    "                'pressure': - np.mean(np.array(data), axis=0)[:,1] * presion_losa_scale,\n",
    "                'displacement': np.interp(data[0][:, 0], time_disp[:, 0], time_disp[:, 1]), \n",
    "                'coordinates': nodes[int(node_id)]\n",
    "            }\n",
    "\n",
    "# Extraction of load pressure\n",
    "# Dictionary to store the data for each node\n",
    "data_dicts_load = {}\n",
    "node_ids_load = []\n",
    "# Iterate over each file in the folder\n",
    "for filename in os.listdir(folder_path_presion_chapa):\n",
    "    if filename.startswith('presion_chapa_node'):\n",
    "        # Extract the node ID from the filename\n",
    "        node_id = filename.split('node')[-1]\n",
    "        node_ids_load.append(node_id)\n",
    "        \n",
    "        # Construct the full file path\n",
    "        file_path_presion_chapa = os.path.join(folder_path_presion_chapa, filename)\n",
    "        file_path_flecha_chapa = os.path.join(folder_path_flecha_chapa, filename.replace('presion_chapa_node ', 'flecha_chapa_node'))\n",
    "        \n",
    "        # Load the data, skipping the first line\n",
    "        data_load = load_multiple_records(file_path_presion_chapa)\n",
    "        time_disp = np.loadtxt(file_path_flecha_chapa, skiprows=1, converters=converters)\n",
    "\n",
    "        # Store the time and pressure data in the dictionary under the node_id\n",
    "        data_dicts_load[node_id] = {\n",
    "            'time': data_load[0][:, 0],\n",
    "            'pressure': -np.mean(np.array(data_load), axis=0)[:,1],\n",
    "            'coordinates': nodes[int(node_id)],\n",
    "            'displacement': np.interp(data_load[0][:, 0], time_disp[:, 0], time_disp[:, 1]), \n",
    "        }\n"
   ]
  },
  {
   "cell_type": "code",
   "execution_count": null,
   "metadata": {},
   "outputs": [],
   "source": [
    "fig1, ax1 = plt.subplots(3, 1, sharex='col')\n",
    "ax1 = ax1.flatten()\n",
    "\n",
    "n_rows = 150\n",
    "n_rows_load = 10*n_rows\n",
    "for node_id in node_ids_load:\n",
    "    ax1[0].plot(data_dicts_load[node_id]['time'][:n_rows_load], data_dicts_load[node_id]['pressure'][:n_rows_load])\n",
    "    ax1[0].set_ylabel('load pressure (MPa)')\n",
    "\n",
    "for node_id in node_ids:\n",
    "    ax1[1].plot(data_dicts[node_id]['time'][:n_rows], data_dicts[node_id]['pressure'][:n_rows])\n",
    "    ax1[1].set_ylabel('pressure (MPa)')\n",
    "    ax1[2].plot(data_dicts[node_id]['time'][:n_rows], data_dicts[node_id]['displacement'][:n_rows])\n",
    "    ax1[2].set_ylabel('displacement (mm)')\n",
    "    ax1[2].set_xlabel('time (s)')\n",
    "plt.show()\n",
    "\n",
    "print(f\"x_s_max_hf = {1e-3*np.max(np.abs(np.array([data_dicts[node_id]['displacement'] for node_id in node_ids]).ravel()))} m\")"
   ]
  },
  {
   "cell_type": "code",
   "execution_count": null,
   "metadata": {},
   "outputs": [],
   "source": [
    "coordinates = np.array([data_dicts[node_id]['coordinates'] for node_id in node_ids])\n",
    "\n",
    "# Create a 3D scatter plot\n",
    "fig = plt.figure()\n",
    "ax = fig.add_subplot(111, projection='3d')\n",
    "ax.scatter(coordinates[:, 0], coordinates[:, 1], coordinates[:, 2])\n",
    "\n",
    "# Set labels (optional)\n",
    "ax.set_xlabel('X Coordinate')\n",
    "ax.set_ylabel('Y Coordinate')\n",
    "ax.set_zlabel('Z Coordinate')\n",
    "\n",
    "plt.show()"
   ]
  },
  {
   "cell_type": "code",
   "execution_count": 7,
   "metadata": {},
   "outputs": [],
   "source": [
    "stride = 10\n",
    "\n",
    "# Assuming data_dicts and node_ids are already defined\n",
    "coordinates = np.array([data_dicts[node_id]['coordinates'] for node_id in node_ids])\n",
    "displacement_data = np.array([data_dicts[node_id]['displacement'][:n_rows] for node_id in node_ids])\n",
    "pressure_data = np.array([data_dicts[node_id]['pressure'][:n_rows] for node_id in node_ids])\n",
    "time_data = np.array(data_dicts[node_ids[0]]['time'][:n_rows])\n",
    "\n",
    "pressure_data_load = np.array([data_dicts_load[node_id]['pressure'][:n_rows_load] for node_id in node_ids_load])\n",
    "time_data_load = np.array(data_dicts_load[node_ids_load[0]]['time'][:n_rows_load])\n",
    "\n",
    "# # Create a 3D scatter plot\n",
    "# fig = plt.figure()\n",
    "# ax = fig.add_subplot(111, projection='3d')\n",
    "\n",
    "# # Initialize scatter plot\n",
    "# scat = ax.scatter(coordinates[:, 0], coordinates[:, 1], coordinates[:, 2])\n",
    "\n",
    "# # Set labels (optional)\n",
    "# ax.set_xlabel('X Coordinate')\n",
    "# ax.set_ylabel('Y Coordinate')\n",
    "# ax.set_zlabel('Z Coordinate')\n",
    "\n",
    "# # Function to update the scatter plot\n",
    "# def update(frame):\n",
    "#     ax.clear()\n",
    "#     ax.set_xlabel('X Coordinate')\n",
    "#     ax.set_ylabel('Y Coordinate')\n",
    "#     ax.set_zlabel('Z Coordinate')\n",
    "#     ax.set_xlim([coordinates[:, 0].min(), coordinates[:, 0].max()])\n",
    "#     ax.set_ylim([coordinates[:, 1].min(), coordinates[:, 1].max()])\n",
    "#     ax.set_zlim([displacement_data.min(), displacement_data.max()])\n",
    "#     ax.scatter(coordinates[:, 0], coordinates[:, 1], displacement_data[:, frame], c=pressure_data[:, frame], cmap='hot')\n",
    "#     return scat,\n",
    "\n",
    "# # Create the animation\n",
    "# ani = FuncAnimation(fig, update, frames=range(0, len(displacement_data[0]), stride), interval=1000/25, blit=False)\n",
    "\n",
    "# HTML(ani.to_jshtml())\n"
   ]
  },
  {
   "cell_type": "code",
   "execution_count": null,
   "metadata": {},
   "outputs": [],
   "source": [
    "print(f'{time_data.shape=}')"
   ]
  },
  {
   "cell_type": "code",
   "execution_count": null,
   "metadata": {},
   "outputs": [],
   "source": [
    "print(f'{displacement_data.shape=}')"
   ]
  },
  {
   "cell_type": "code",
   "execution_count": null,
   "metadata": {},
   "outputs": [],
   "source": [
    "print(f'{pressure_data.shape=}')"
   ]
  },
  {
   "cell_type": "code",
   "execution_count": null,
   "metadata": {},
   "outputs": [],
   "source": [
    "print(f'{time_data_load.shape=}')"
   ]
  },
  {
   "cell_type": "code",
   "execution_count": null,
   "metadata": {},
   "outputs": [],
   "source": [
    "print(f'{pressure_data_load.shape=}')"
   ]
  },
  {
   "cell_type": "markdown",
   "metadata": {},
   "source": [
    "# Train set generation from time history dataset"
   ]
  },
  {
   "cell_type": "markdown",
   "metadata": {},
   "source": [
    "## Get maximum displacement and force"
   ]
  },
  {
   "cell_type": "code",
   "execution_count": null,
   "metadata": {},
   "outputs": [],
   "source": [
    "pressure_flag = 'mean' # 'max' # \n",
    "\n",
    "i_node_max = np.argmax(np.abs(np.max(np.abs(displacement_data), axis=1)))\n",
    "disp = displacement_data[i_node_max, :]  # mm\n",
    "\n",
    "length = 840\n",
    "width = 300\n",
    "print(f'{length=}, {width=}')\n",
    "area = length*width\n",
    "\n",
    "if pressure_flag == 'mean':\n",
    "    force = np.mean(pressure_data, axis=0) * area  # MPa mm mm = 10e6 (N / m^2) (10e-3)^2 m^2 = N\n",
    "elif pressure_flag == 'max':\n",
    "    node_max_pressure = np.argmax(np.abs(np.mean(pressure_data, axis=1)))\n",
    "    force = pressure_data[node_max_pressure, :] * area  # MPa mm mm = 10e6 (N / m^2) (10e-3)^2 m^2 = N\n",
    "else:\n",
    "    raise NotImplementedError\n",
    "print(f'{disp.shape=}, {force.shape=}')\n",
    "\n"
   ]
  },
  {
   "cell_type": "markdown",
   "metadata": {},
   "source": [
    "## Resampling to a constant delta_t"
   ]
  },
  {
   "cell_type": "code",
   "execution_count": null,
   "metadata": {},
   "outputs": [],
   "source": [
    "# Fix delta_t\n",
    "delta_t_real = np.round(np.mean(np.diff(time_data)), 5)/100\n",
    "print(f'{delta_t_real=}')\n",
    "\n",
    "# New time vector\n",
    "time_resampled_ = np.arange(time_data[0], time_data[-1], delta_t_real)\n",
    "\n",
    "# Create an interpolation function\n",
    "interp_disp_func = interp1d(time_data, disp, kind='cubic', fill_value=\"extrapolate\")\n",
    "\n",
    "interp_force_func = interp1d(time_data, force, kind='cubic', fill_value=\"extrapolate\")\n",
    "\n",
    "\n",
    "smoothing_window = 4\n",
    "\n",
    "# Resample values using the interpolation function\n",
    "disp_resampled_ = interp_disp_func(time_resampled_)\n",
    "disp_resampled = signal.convolve(disp_resampled_, np.ones((smoothing_window))/smoothing_window, mode='valid')\n",
    "force_resampled_ = interp_force_func(time_resampled_)\n",
    "force_resampled = signal.convolve(force_resampled_, np.ones((smoothing_window))/smoothing_window, mode='valid')\n",
    "time_resampled = time_resampled_[smoothing_window//2:-smoothing_window//2+1]\n",
    "\n",
    "\n",
    "print(f'{time_resampled_.shape=}')\n",
    "print(f'{time_resampled.shape=}')\n",
    "\n",
    "print(f'{disp_resampled_.shape=}')\n",
    "print(f'{disp_resampled.shape=}')\n",
    "print(f'{force_resampled_.shape=}')\n",
    "print(f'{force_resampled.shape=}')\n",
    "\n"
   ]
  },
  {
   "cell_type": "code",
   "execution_count": null,
   "metadata": {},
   "outputs": [],
   "source": [
    "plt.figure()\n",
    "plt.plot(pressure_data.T)\n",
    "plt.show()\n",
    "\n",
    "plt.figure()\n",
    "plt.plot(force)\n",
    "plt.title('force')\n",
    "plt.show()\n"
   ]
  },
  {
   "cell_type": "markdown",
   "metadata": {},
   "source": [
    "### Scaling"
   ]
  },
  {
   "cell_type": "code",
   "execution_count": 16,
   "metadata": {},
   "outputs": [],
   "source": [
    "scales = {'time': 1e3,\n",
    "          'force': 1e-7,\n",
    "          'disp': 1e-2}\n",
    "\n",
    "\n",
    "# Re-scale displacement\n",
    "disp_resampled_norm = disp_resampled * scales['disp']\n",
    "\n",
    "# Re-scale time vector for appropriate scaling\n",
    "time_resampled_norm = time_resampled * scales['time']\n",
    "delta_t_norm = time_resampled_norm[1] - time_resampled_norm[0]\n",
    "\n",
    "# Re-scale force\n",
    "force_resampled_norm = force_resampled * scales['force']"
   ]
  },
  {
   "cell_type": "markdown",
   "metadata": {},
   "source": [
    "## Velocity estimation"
   ]
  },
  {
   "cell_type": "code",
   "execution_count": 17,
   "metadata": {},
   "outputs": [],
   "source": [
    "vel_resampled_norm = np.diff(disp_resampled_norm, prepend=0)/delta_t_norm"
   ]
  },
  {
   "cell_type": "markdown",
   "metadata": {},
   "source": [
    "## Acceleration estimation"
   ]
  },
  {
   "cell_type": "code",
   "execution_count": 18,
   "metadata": {},
   "outputs": [],
   "source": [
    "acc_resampled_norm = np.diff(vel_resampled_norm, prepend=0)/delta_t_norm"
   ]
  },
  {
   "cell_type": "code",
   "execution_count": null,
   "metadata": {},
   "outputs": [],
   "source": [
    "disp_resampled_norm.shape"
   ]
  },
  {
   "cell_type": "markdown",
   "metadata": {},
   "source": [
    "### Plots for inspecting resampling"
   ]
  },
  {
   "cell_type": "code",
   "execution_count": null,
   "metadata": {},
   "outputs": [],
   "source": [
    "fig2, ax2 = plt.subplots(4, 1, figsize=(10,10), sharex='col')\n",
    "ax2 = ax2.flatten()\n",
    "\n",
    "ax2[0].plot(time_resampled_norm, force_resampled_norm.T)\n",
    "ax2[0].set_ylabel(fr'force $\\times${1/scales[\"force\"]:.0e} (N)')\n",
    "ax2[1].plot(time_resampled_norm, disp_resampled_norm.T)\n",
    "ax2[1].set_ylabel(fr'displacement $\\times${1/scales[\"disp\"]:.0e} (mm)')\n",
    "ax2[2].plot(time_resampled_norm, vel_resampled_norm.T)\n",
    "ax2[2].set_ylabel(fr'velocity $\\times${(1/scales[\"disp\"])/(1/(scales[\"time\"])):.0e} (mm/s)')\n",
    "ax2[3].plot(time_resampled_norm, acc_resampled_norm.T)\n",
    "ax2[3].set_ylabel(fr'acceleration $\\times${(1/scales[\"disp\"])/(1/(scales[\"time\"]**2)):.0e} (mm/s2)')\n",
    "ax2[3].set_xlabel(fr'time $\\times${(1/scales[\"time\"]):.0e} (s)')\n",
    "\n",
    "plt.show()"
   ]
  },
  {
   "cell_type": "markdown",
   "metadata": {},
   "source": [
    "# First approximation from full_iter = 0"
   ]
  },
  {
   "cell_type": "code",
   "execution_count": null,
   "metadata": {},
   "outputs": [],
   "source": [
    "# From full_iter = 0\n",
    "m = 18.4035/100\n",
    "c = 4205.9600/100000\n",
    "k = 1042555.0104/(100000000)\n",
    "\n",
    "print(f\"Estimated mass (m): {m}\")\n",
    "print(f\"Estimated damping (c): {c}\")\n",
    "print(f\"Estimated stiffness (k): {k}\")\n",
    "print(f'damping ratio = {c/(2*m*np.sqrt(k/m))}')"
   ]
  },
  {
   "cell_type": "markdown",
   "metadata": {},
   "source": [
    "### Verification"
   ]
  },
  {
   "cell_type": "code",
   "execution_count": null,
   "metadata": {},
   "outputs": [],
   "source": [
    "def solve_system(m, c, k, force, time):\n",
    "    # Define the system dynamics\n",
    "    def dynamics(y, f_t):\n",
    "        x, x_dot = y\n",
    "        x_ddot = (f_t - c * x_dot - k * x) / m\n",
    "        return [x_dot, x_ddot]\n",
    "\n",
    "    # Define the external force as a function of time \n",
    "    def force_t(t):\n",
    "        return force.reshape((-1,1))[np.where(time > t)[0][0], :][0]\n",
    "\n",
    "    # Wrapper for `solve_ivp` to include the force term\n",
    "    def wrapped_dynamics(t, y, force_t):\n",
    "        return dynamics(y, force_t(t))\n",
    "\n",
    "    # Solve the ODE\n",
    "    sol = solve_ivp(wrapped_dynamics, y0=np.zeros((2, )), t_span=[0, time[-2]], t_eval=time[:-2], args=[force_t])\n",
    "    return sol\n",
    "\n",
    "# Solve the system\n",
    "sol = solve_system(m, c, k, force_resampled_norm, time_resampled_norm)\n",
    "\n",
    "# Plot the results\n",
    "plt.figure()\n",
    "plt.plot(sol.t, sol.y[0], color='red', linestyle='--', label='Displacement (x)')\n",
    "plt.plot(sol.t, sol.y[1], color='blue', linestyle='--', label='Velocity (x_dot)')\n",
    "plt.plot(time_resampled_norm, disp_resampled_norm, color='red', linestyle='-', label='Real Displacement (x)')\n",
    "plt.plot(time_resampled_norm, vel_resampled_norm, color='blue', linestyle='-', label='Real Velocity (x_dot)')\n",
    "plt.xlabel(fr'time $\\times${(1/scales[\"time\"]):.0e} (s)')\n",
    "plt.ylabel('Normalized state variables')\n",
    "plt.legend()\n",
    "plt.show()"
   ]
  },
  {
   "cell_type": "markdown",
   "metadata": {},
   "source": [
    "## Refine model using Reinforcement Learning"
   ]
  },
  {
   "cell_type": "code",
   "execution_count": 23,
   "metadata": {},
   "outputs": [],
   "source": [
    "from scipy.optimize import minimize, differential_evolution\n",
    "\n",
    "\n",
    "# Save a copy of proxy\n",
    "m_init, c_init, k_init = m, c, k\n",
    "\n",
    "# Objective function to minimize\n",
    "def objective(params, disp_resampled_norm, time_resampled_norm):\n",
    "    # Unpack the parameters for this evaluation\n",
    "    m, zeta, k = params\n",
    "    c = zeta * 2 * m * np.sqrt(k/m)\n",
    "\n",
    "    # Solve the system\n",
    "    sol = solve_system(m, c, k, force_resampled_norm, time_resampled_norm)\n",
    "    \n",
    "    try:\n",
    "        error = np.sum(np.abs(sol.y[0] - disp_resampled_norm[:-2]))\n",
    "        # error = np.sum((sol.y[0] - disp_resampled_norm[:-2])**2)\n",
    "    except IndexError:\n",
    "        error = np.inf\n",
    "\n",
    "    return error\n",
    "\n",
    "# Initial guess for m, c, k\n",
    "initial_guess = [m_init, c_init, k_init]\n",
    "\n",
    "# Optimize parameters\n",
    "\n",
    "result = differential_evolution(objective, bounds=[(.10*m_init, 10*m_init), (0.0, 1.0), (.10*k_init, 10*k_init)], \n",
    "                                args=(disp_resampled_norm, time_resampled_norm), tol=1e-3, x0=(m_init, 0.5, k_init))"
   ]
  },
  {
   "cell_type": "code",
   "execution_count": null,
   "metadata": {},
   "outputs": [],
   "source": [
    "m, zeta, k = result.x\n",
    "c = zeta * 2 * m * np.sqrt(k/m)\n",
    "print(f\"Optimized mass (m): {m}\")\n",
    "print(f\"Optimized damping (c): {c}\")\n",
    "print(f\"Optimized stiffness (k): {k}\")\n",
    "print(f'damping ratio = {c/(2*m*np.sqrt(k/m))}')"
   ]
  },
  {
   "cell_type": "markdown",
   "metadata": {},
   "source": [
    "### Verification"
   ]
  },
  {
   "cell_type": "code",
   "execution_count": null,
   "metadata": {},
   "outputs": [],
   "source": [
    "# Solve the system\n",
    "sol = solve_system(m, c, k, force_resampled_norm, time_resampled_norm)\n",
    "\n",
    "# Plot the results\n",
    "plt.figure()\n",
    "plt.plot(sol.t, sol.y[0], color='red', linestyle='--', label='Displacement (x)')\n",
    "plt.plot(sol.t, sol.y[1], color='blue', linestyle='--', label='Velocity (x_dot)')\n",
    "plt.plot(time_resampled_norm, disp_resampled_norm, color='red', linestyle='-', label='Real Displacement (x)')\n",
    "plt.plot(time_resampled_norm, vel_resampled_norm, color='blue', linestyle='-', label='Real Velocity (x_dot)')\n",
    "plt.xlabel(fr'time $\\times${(1/scales[\"time\"]):.0e} (s)')\n",
    "plt.ylabel('Normalized state variables')\n",
    "plt.legend()\n",
    "plt.show()"
   ]
  },
  {
   "cell_type": "markdown",
   "metadata": {},
   "source": [
    "# Back to physical units"
   ]
  },
  {
   "cell_type": "code",
   "execution_count": null,
   "metadata": {},
   "outputs": [],
   "source": [
    "m_Ton = m * (1/scales['force']) / ((1/scales['disp']) / (1/scales['time']**2)) \n",
    "c_Ns_mm = c * (1/scales['force']) / ((1/scales['disp']) / (1/scales['time']))\n",
    "k_N_mm = k * (1/scales['force']) / (1/scales['disp'])\n",
    "omega_rad_s = np.sqrt((k_N_mm*1000) / (m_Ton*1000))\n",
    "\n",
    "print(f'{m_Ton=:.4f}, {c_Ns_mm=:.4f}, {k_N_mm=:.4f}')\n",
    "print(f'm_s_ = {m_Ton*1000:.4f}  # kg')\n",
    "print(f'k_s_ = {k_N_mm*1000:.4f} # N/m')\n",
    "print(f'c_s_ = {c_Ns_mm*1000:.4f}  # Ns/m')\n",
    "print(f'omega = {omega_rad_s=:.4f} rad/s')\n",
    "print(f'frequency = {omega_rad_s/(2*np.pi)=:.4f} Hz')\n",
    "print(f'period = {1/(omega_rad_s/(2*np.pi))=:.4f} s')\n",
    "print(f'damping ratio = {(c_Ns_mm*1000)/(2*(m_Ton*1000)*omega_rad_s)}')"
   ]
  },
  {
   "cell_type": "markdown",
   "metadata": {},
   "source": [
    "## Equivalent force load\n",
    "$$F=\\frac{\\sum_{i=0}^{n-1}{x_i(t_2) F_i}}{x_0(t_2)}$$"
   ]
  },
  {
   "cell_type": "markdown",
   "metadata": {},
   "source": [
    "### Tribute areas"
   ]
  },
  {
   "cell_type": "code",
   "execution_count": null,
   "metadata": {},
   "outputs": [],
   "source": [
    "# Original coordinates\n",
    "x_max = 420\n",
    "x_min = -x_max\n",
    "y_max = 150\n",
    "y_min = -y_max\n",
    "coordinates_load = np.array([data_dicts_load[node_id]['coordinates'] for node_id in node_ids_load])\n",
    "points = {'valid': np.logical_and(coordinates_load[:, 0]>x_min*.955, coordinates_load[:, 0]<x_max*.955),\n",
    "          'edge_x': np.logical_and(\n",
    "              np.logical_or(coordinates_load[:, 0]<0.9*x_min, coordinates_load[:, 0]>0.9*x_max),\n",
    "              np.logical_and(coordinates_load[:, 0]>x_min*.955, coordinates_load[:, 0]<x_max*.955)\n",
    "          ),\n",
    "          'edge_y': np.logical_and(\n",
    "                np.logical_or(coordinates_load[:, 1]<0.9*y_min, coordinates_load[:, 1]>0.9*y_max),\n",
    "                np.logical_and(coordinates_load[:, 0]>x_min*.955, coordinates_load[:, 0]<x_max*.955)\n",
    "          ),\n",
    "          'xy': coordinates_load[:, :2]}\n",
    "\n",
    "areas = np.zeros(len(points['xy']))\n",
    "for i, (valid, edge_x, edge_y) in enumerate(zip(points['valid'], points['edge_x'], points['edge_y'])):\n",
    "    if valid:\n",
    "        areas[i] = ((x_max-x_min)/3) * ((y_max-y_min)/7)\n",
    "        if edge_x:\n",
    "            areas[i] /= 2\n",
    "        if edge_y:\n",
    "            areas[i] /= 2\n",
    "\n",
    "points['area'] = areas\n",
    "\n",
    "print(points['area'], sum(points['area']), 300*840)\n",
    "\n",
    "fig, ax = plt.subplots(1,1)\n",
    "ax.grid()\n",
    "ax.plot(points['xy'][points['valid']][:, 0], \n",
    "         points['xy'][points['valid']][:, 1], \n",
    "         linestyle='none', marker='o', markerfacecolor='w', markersize=10)\n",
    "ax.plot(points['xy'][points['edge_x']][:, 0], \n",
    "         points['xy'][points['edge_x']][:, 1], \n",
    "         linestyle='none', marker='x', color='orange', markersize=10)\n",
    "ax.plot(points['xy'][points['edge_y']][:, 0], \n",
    "         points['xy'][points['edge_y']][:, 1], \n",
    "         linestyle='none', marker='s', color='orange')\n",
    "circle_radius = 20  # Set the circle radius\n",
    "for (xi, yi), area in zip(points['xy'], points['area']):\n",
    "    circle = plt.Circle((xi, yi), np.sqrt(area/np.pi), color=\"blue\", \n",
    "                        fill=False, linestyle=\"--\", linewidth=1.5)\n",
    "    ax.add_artist(circle)\n",
    "plt.show()"
   ]
  },
  {
   "cell_type": "markdown",
   "metadata": {},
   "source": [
    "### Discrete forces $F_i$"
   ]
  },
  {
   "cell_type": "code",
   "execution_count": 28,
   "metadata": {},
   "outputs": [],
   "source": [
    "points['pressure'], points['F_i'] = [], []\n",
    "points['time'] = time_data_load\n",
    "for i in range(len(points['xy'])):\n",
    "    points['pressure'].append(pressure_data_load[i, :])  # MPa\n",
    "    points['F_i'].append(pressure_data_load[i, :] * points['area'][i])  # N = MPa * mm2 <=> 1e6 * 1e-3 * 1e-3 = 1"
   ]
  },
  {
   "cell_type": "markdown",
   "metadata": {},
   "source": [
    "### Equivalent force load $F$"
   ]
  },
  {
   "cell_type": "code",
   "execution_count": null,
   "metadata": {},
   "outputs": [],
   "source": [
    "displacement_load_data = np.array([data_dicts_load[node_id]['displacement'][:n_rows_load] for node_id in node_ids_load])\n",
    "\n",
    "# Before sign change in velocity\n",
    "velocity_load_data = (np.diff(displacement_load_data.T, axis=0)/np.diff(time_data_load, axis=0).reshape((-1, 1))).T\n",
    "\n",
    "# Function to find the first occurrence of +1 in any column\n",
    "def find_first_plus_one_any_column(arr):\n",
    "    # Find indices where the value is +1\n",
    "    plus_one_indices = np.where(arr == 1)\n",
    "    if plus_one_indices[0].size > 0:\n",
    "        # Return the row index of the first occurrence\n",
    "        return plus_one_indices[0][0]\n",
    "    else:\n",
    "        # Return -1 if +1 is not found in any column\n",
    "        return -1\n",
    "\n",
    "# Get the row index\n",
    "frame = find_first_plus_one_any_column(np.sign(velocity_load_data.T))\n",
    "\n",
    "# Print the result\n",
    "print(\"Row index of the first +1 in any column:\", frame)\n",
    "\n",
    "# Displacement of the front face just before change of sign in velocity\n",
    "disp_before_compact = displacement_load_data[:, frame]\n",
    "\n",
    "\n",
    "fig, ax = plt.subplots(1,2, figsize=(12,3))\n",
    "ax[0].plot(displacement_load_data.T)\n",
    "ax[0].vlines(frame, ymin=-100, ymax=100, color='black')\n",
    "ax[0].twinx().plot(velocity_load_data.T, alpha=0.2)\n",
    "ax[0].set_ylabel('displacement (mm)')\n",
    "\n",
    "ax3d = fig.add_subplot(122, projection='3d')\n",
    "ax3d.set_xlabel('X Coordinate')\n",
    "ax3d.set_ylabel('Y Coordinate')\n",
    "ax3d.set_zlabel('displacement')\n",
    "ax3d.set_xlim([coordinates_load[:, 0].min(), coordinates_load[:, 0].max()])\n",
    "ax3d.set_ylim([coordinates_load[:, 1].min(), coordinates_load[:, 1].max()])\n",
    "ax3d.set_zlim([disp_before_compact.min(), 0.])\n",
    "ax3d.scatter(coordinates_load[:, 0], coordinates_load[:, 1], disp_before_compact)\n",
    "\n",
    "plt.show()"
   ]
  },
  {
   "cell_type": "code",
   "execution_count": 30,
   "metadata": {},
   "outputs": [],
   "source": [
    "# Central node\n",
    "i_central_node_load = np.argmin(np.sqrt((coordinates_load[:, 0] - 0)**2 + (coordinates_load[:, 1] - 0)**2))\n",
    "\n",
    "# Load force calculation (equivalent work)\n",
    "force_load = 0\n",
    "for i, force in enumerate(points['F_i']):\n",
    "    force_load += force * disp_before_compact[i]\n",
    "\n",
    "force_load /= disp_before_compact[i_central_node_load]"
   ]
  },
  {
   "cell_type": "markdown",
   "metadata": {},
   "source": [
    "### Approximate a triangle force load"
   ]
  },
  {
   "cell_type": "code",
   "execution_count": null,
   "metadata": {},
   "outputs": [],
   "source": [
    "interp_force_load_func = interp1d(time_data_load, force_load, kind='linear', fill_value=\"extrapolate\")\n",
    "force_load_resampled_ = interp_force_load_func(time_resampled_)\n",
    "force_load_resampled = signal.convolve(force_load_resampled_, np.ones((smoothing_window))/smoothing_window, mode='valid')\n",
    "print(f'{force_load_resampled_.shape=}')\n",
    "print(f'{force_load_resampled.shape=}')\n",
    "\n",
    "\n",
    "def triangle_force(t_eval: float, t_ini: float, T: float, F: float) -> float:\n",
    "    \"\"\"\n",
    "    Calculates the force with an instantaneous rise to F followed by a gradual \n",
    "    decrease over time T.\n",
    "    \n",
    "    Args:\n",
    "        t_eval (float): The time at which the force is evaluated.\n",
    "        t_ini (float): The start time of the force impulse.\n",
    "        T (float): The total duration of the fall.\n",
    "        F (float): The peak value of the force.\n",
    "    \n",
    "    Returns:\n",
    "        float: The value of the force at time t_eval.\n",
    "    \"\"\"\n",
    "    \n",
    "    # Time elapsed since the start of the impulse\n",
    "    delta_t = t_eval - t_ini\n",
    "\n",
    "    if delta_t < 0 or delta_t > T:\n",
    "        # Outside the force application period\n",
    "        return 0.0\n",
    "    elif delta_t == 0:\n",
    "        # Instantaneous rise at the start\n",
    "        return F\n",
    "    else:\n",
    "        # Gradual fall from F to 0 over time T\n",
    "        return F * (1 - delta_t / T)\n",
    "\n",
    "triangle_force_vectorized = np.vectorize(triangle_force)\n",
    "\n",
    "# Detect the peak no mater whether is positive or negative\n",
    "peak_idx = np.argmax(np.abs(force_load_resampled))\n",
    "F_ = force_load_resampled[peak_idx]\n",
    "\n",
    "def obj_triangle(params: list, t_vector: np.array, f_vector: np.array, F_):\n",
    "    # Extract parameters to be optimized\n",
    "    t_ini, T = params\n",
    "\n",
    "    error = f_vector - triangle_force_vectorized(t_vector, t_ini, T, F_)\n",
    "    return np.linalg.norm(error)\n",
    "\n",
    "    \n",
    "result_triangle = differential_evolution(obj_triangle, \n",
    "                                         [(0, 1e-3), (0, 1e-3)],\n",
    "                                         args=(time_resampled, force_load_resampled, F_), disp=False)\n",
    "\n",
    "t_ini_, T_ = result_triangle.x\n",
    "print(f'\\n{t_ini_=} s')\n",
    "print(f'T_ = {T_}  # s')\n",
    "print(f'F_ = {-F_}  # N')\n",
    "print(f'Impulse: {F_*T_/2} Ns\\n')\n",
    "\n",
    "force_resampled_triangle = triangle_force_vectorized(time_resampled, t_ini_, T_, np.min(force_load_resampled))\n",
    "\n",
    "# Plot for verification of proxy solution\n",
    "plt.figure(figsize=(5,4))\n",
    "\n",
    "for i, force in enumerate(points['F_i']):\n",
    "    plt.plot(points['time'], force, color='blue')\n",
    "plt.plot(points['time'], force, color='blue', label=r'$F_i(t)$')\n",
    "\n",
    "plt.plot(points['time'], points['F_i'][i_central_node_load], linestyle=':', color='k', label=r'$F_0(t)$')\n",
    "plt.plot(points['time'], force_load, color='k', label=r'$F(t)$')\n",
    "plt.plot(time_resampled, force_load_resampled, linestyle='--', label=r'$F(t)$ (resampled)')\n",
    "plt.plot(time_resampled, force_resampled_triangle, label=r'$F(t)$ (triangle)')\n",
    "\n",
    "plt.xlim((0, .5e-3))\n",
    "plt.xlabel('time (s)')\n",
    "plt.ylabel('force (N)')\n",
    "plt.legend()\n",
    "plt.show()"
   ]
  },
  {
   "cell_type": "markdown",
   "metadata": {},
   "source": [
    "# Equivalent additional mass \n",
    "$$m_a = \\frac{\\sum_{i=0}^{n-1}{m_i v_i(t_1)}}{v_0(t_1)}$$"
   ]
  },
  {
   "cell_type": "markdown",
   "metadata": {},
   "source": [
    "## Velocities after impulse"
   ]
  },
  {
   "cell_type": "code",
   "execution_count": null,
   "metadata": {},
   "outputs": [],
   "source": [
    "# Time just after load pulse\n",
    "time_after_impulse = t_ini_ + T_\n",
    "frame_after_impulse = np.argmin(np.abs(time_after_impulse - time_data_load))\n",
    "print(time_after_impulse, frame_after_impulse)\n",
    "\n",
    "vel_after_impulse = velocity_load_data[:, frame_after_impulse]\n",
    "\n",
    "fig, ax = plt.subplots(1,2, figsize=(12,3))\n",
    "ax[0].plot(velocity_load_data.T)\n",
    "ax[0].set_ylabel('velocity (mm/s)')\n",
    "ax[0].vlines(frame_after_impulse, ymin=-.5e5, ymax=1e4, color='black')\n",
    "\n",
    "ax3d = fig.add_subplot(122, projection='3d')\n",
    "ax3d.set_xlabel('X Coordinate')\n",
    "ax3d.set_ylabel('Y Coordinate')\n",
    "ax3d.set_zlabel('velocity')\n",
    "ax3d.set_xlim([coordinates_load[:, 0].min(), coordinates_load[:, 0].max()])\n",
    "ax3d.set_ylim([coordinates_load[:, 1].min(), coordinates_load[:, 1].max()])\n",
    "ax3d.set_zlim([vel_after_impulse.min(), 0.])\n",
    "ax3d.scatter(coordinates_load[:, 0], coordinates_load[:, 1], vel_after_impulse)\n",
    "\n",
    "plt.show()"
   ]
  },
  {
   "cell_type": "code",
   "execution_count": 33,
   "metadata": {},
   "outputs": [],
   "source": [
    "# Mass integration\n",
    "sup_mass_dens_kg_m2 = 7850 * 4 * .0016\n",
    "sup_mass_dens_kg_mm2 = sup_mass_dens_kg_m2 / 1e6\n",
    "\n",
    "points['m_i'] = []\n",
    "for i, area in enumerate(points['area']):\n",
    "    points['m_i'].append(area*sup_mass_dens_kg_mm2)  # kg\n",
    "    "
   ]
  },
  {
   "cell_type": "markdown",
   "metadata": {},
   "source": [
    "## Equivalent additional mass"
   ]
  },
  {
   "cell_type": "code",
   "execution_count": null,
   "metadata": {},
   "outputs": [],
   "source": [
    "# Equivalent mass calculation (equivalent work)\n",
    "m_a_eq = 0\n",
    "for i, m_i in enumerate(points['m_i']):\n",
    "    m_a_eq += m_i * vel_after_impulse[i]\n",
    "\n",
    "m_a_eq /= vel_after_impulse[i_central_node_load]\n",
    "\n",
    "print(f\"Equivalent additional mass: \\nm_a_ = {m_a_eq}  # kg\")\n"
   ]
  },
  {
   "cell_type": "markdown",
   "metadata": {},
   "source": [
    "# Equivalence factor for yield force\n",
    "$$f_\\mathrm{eq}=\\frac{f x_0(t_2) n}{\\sum_{i=0}^{n-1}{x_i(t_2)}}= \\phi_\\mathrm{eq} f$$"
   ]
  },
  {
   "cell_type": "code",
   "execution_count": null,
   "metadata": {},
   "outputs": [],
   "source": [
    "phi_eq = disp_before_compact[i_central_node_load] * len(disp_before_compact) / sum(disp_before_compact)\n",
    "print(f\"Equivalence factor for yield force: \\nphi_eq = {phi_eq} \")\n"
   ]
  }
 ],
 "metadata": {
  "kernelspec": {
   "display_name": "car_models",
   "language": "python",
   "name": "python3"
  },
  "language_info": {
   "codemirror_mode": {
    "name": "ipython",
    "version": 3
   },
   "file_extension": ".py",
   "mimetype": "text/x-python",
   "name": "python",
   "nbconvert_exporter": "python",
   "pygments_lexer": "ipython3",
   "version": "3.8.10"
  }
 },
 "nbformat": 4,
 "nbformat_minor": 2
}
